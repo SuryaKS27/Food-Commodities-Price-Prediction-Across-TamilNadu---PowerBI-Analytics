{
 "cells": [
  {
   "cell_type": "code",
   "execution_count": 1,
   "metadata": {},
   "outputs": [
    {
     "name": "stderr",
     "output_type": "stream",
     "text": [
      "<>:4: SyntaxWarning: invalid escape sequence '\\d'\n",
      "<>:4: SyntaxWarning: invalid escape sequence '\\d'\n",
      "<>:4: SyntaxWarning: invalid escape sequence '\\d'\n",
      "<>:4: SyntaxWarning: invalid escape sequence '\\d'\n",
      "<>:4: SyntaxWarning: invalid escape sequence '\\d'\n",
      "<>:4: SyntaxWarning: invalid escape sequence '\\d'\n",
      "<>:4: SyntaxWarning: invalid escape sequence '\\d'\n",
      "<>:4: SyntaxWarning: invalid escape sequence '\\d'\n",
      "C:\\Users\\SURYAKS\\AppData\\Local\\Temp\\ipykernel_26864\\3751906378.py:4: SyntaxWarning: invalid escape sequence '\\d'\n",
      "  csv_files = [\"cleaned_data\\data_2020.csv\", \"cleaned_data\\data_2021.csv\", \"cleaned_data\\data_2022.csv\", \"cleaned_data\\data_2023.csv\"]\n",
      "C:\\Users\\SURYAKS\\AppData\\Local\\Temp\\ipykernel_26864\\3751906378.py:4: SyntaxWarning: invalid escape sequence '\\d'\n",
      "  csv_files = [\"cleaned_data\\data_2020.csv\", \"cleaned_data\\data_2021.csv\", \"cleaned_data\\data_2022.csv\", \"cleaned_data\\data_2023.csv\"]\n",
      "C:\\Users\\SURYAKS\\AppData\\Local\\Temp\\ipykernel_26864\\3751906378.py:4: SyntaxWarning: invalid escape sequence '\\d'\n",
      "  csv_files = [\"cleaned_data\\data_2020.csv\", \"cleaned_data\\data_2021.csv\", \"cleaned_data\\data_2022.csv\", \"cleaned_data\\data_2023.csv\"]\n",
      "C:\\Users\\SURYAKS\\AppData\\Local\\Temp\\ipykernel_26864\\3751906378.py:4: SyntaxWarning: invalid escape sequence '\\d'\n",
      "  csv_files = [\"cleaned_data\\data_2020.csv\", \"cleaned_data\\data_2021.csv\", \"cleaned_data\\data_2022.csv\", \"cleaned_data\\data_2023.csv\"]\n"
     ]
    },
    {
     "name": "stdout",
     "output_type": "stream",
     "text": [
      "CSV files combined successfully into 'final_data.csv'\n"
     ]
    }
   ],
   "source": [
    "import pandas as pd\n",
    "\n",
    "# List of CSV file paths\n",
    "csv_files = [\"cleaned_data\\data_2020.csv\", \"cleaned_data\\data_2021.csv\", \"cleaned_data\\data_2022.csv\", \"cleaned_data\\data_2023.csv\"]\n",
    "\n",
    "# Read and combine all CSV files\n",
    "combined_df = pd.concat([pd.read_csv(file) for file in csv_files], ignore_index=True)\n",
    "\n",
    "# Save the combined DataFrame to a new CSV file\n",
    "combined_df.to_csv(\"final_data.csv\", index=False)\n",
    "\n",
    "print(\"CSV files combined successfully into 'final_data.csv'\")\n"
   ]
  }
 ],
 "metadata": {
  "kernelspec": {
   "display_name": "base",
   "language": "python",
   "name": "python3"
  },
  "language_info": {
   "codemirror_mode": {
    "name": "ipython",
    "version": 3
   },
   "file_extension": ".py",
   "mimetype": "text/x-python",
   "name": "python",
   "nbconvert_exporter": "python",
   "pygments_lexer": "ipython3",
   "version": "3.12.3"
  }
 },
 "nbformat": 4,
 "nbformat_minor": 2
}
