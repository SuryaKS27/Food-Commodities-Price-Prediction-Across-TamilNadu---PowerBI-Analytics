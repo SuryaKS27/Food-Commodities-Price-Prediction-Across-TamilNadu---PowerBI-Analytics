{
 "cells": [
  {
   "cell_type": "code",
   "execution_count": 21,
   "metadata": {},
   "outputs": [
    {
     "name": "stderr",
     "output_type": "stream",
     "text": [
      "C:\\Users\\SURYAKS\\AppData\\Local\\Temp\\ipykernel_25068\\1192274775.py:6: DtypeWarning: Columns (14) have mixed types. Specify dtype option on import or set low_memory=False.\n",
      "  df = pd.read_csv(file_path)\n"
     ]
    },
    {
     "name": "stdout",
     "output_type": "stream",
     "text": [
      "Cleaned file saved at: cleaned_data\\data (1)_cleaned.csv\n"
     ]
    },
    {
     "name": "stderr",
     "output_type": "stream",
     "text": [
      "C:\\Users\\SURYAKS\\AppData\\Local\\Temp\\ipykernel_25068\\1192274775.py:6: DtypeWarning: Columns (14) have mixed types. Specify dtype option on import or set low_memory=False.\n",
      "  df = pd.read_csv(file_path)\n"
     ]
    },
    {
     "name": "stdout",
     "output_type": "stream",
     "text": [
      "Cleaned file saved at: cleaned_data\\data (2)_cleaned.csv\n"
     ]
    },
    {
     "name": "stderr",
     "output_type": "stream",
     "text": [
      "C:\\Users\\SURYAKS\\AppData\\Local\\Temp\\ipykernel_25068\\1192274775.py:6: DtypeWarning: Columns (14) have mixed types. Specify dtype option on import or set low_memory=False.\n",
      "  df = pd.read_csv(file_path)\n"
     ]
    },
    {
     "name": "stdout",
     "output_type": "stream",
     "text": [
      "Cleaned file saved at: cleaned_data\\data (3)_cleaned.csv\n"
     ]
    },
    {
     "name": "stderr",
     "output_type": "stream",
     "text": [
      "C:\\Users\\SURYAKS\\AppData\\Local\\Temp\\ipykernel_25068\\1192274775.py:6: DtypeWarning: Columns (14) have mixed types. Specify dtype option on import or set low_memory=False.\n",
      "  df = pd.read_csv(file_path)\n"
     ]
    },
    {
     "name": "stdout",
     "output_type": "stream",
     "text": [
      "Cleaned file saved at: cleaned_data\\data (4)_cleaned.csv\n"
     ]
    }
   ],
   "source": [
    "import pandas as pd\n",
    "import os\n",
    "\n",
    "def preprocess_csv(file_path, output_path):\n",
    "    # Load the data\n",
    "    df = pd.read_csv(file_path)\n",
    "    \n",
    "    # Remove unnecessary columns (adjust based on your data)\n",
    "    unwanted_columns = ['id', 'state_id', 'census_state_id', 'census_state_name', \n",
    "                        'census_district_id', 'census_district_name', 'district_id', 'grade']\n",
    "    df = df.drop(columns=[col for col in unwanted_columns if col in df.columns], errors='ignore')\n",
    "    \n",
    "    # Drop rows with missing essential values (e.g., `grade`, `min_price`, etc.)\n",
    "    df = df.dropna(subset=['min_price', 'max_price', 'modal_price', 'date'])\n",
    "    \n",
    "    # Convert `date` to a datetime object\n",
    "    df['date'] = pd.to_datetime(df['date'], errors='coerce')\n",
    "    df = df.dropna(subset=['date'])  # Drop rows with invalid `date` values\n",
    "    \n",
    "    # Feature engineering (optional):\n",
    "    # Add `price_range` column if both `min_price` and `max_price` are available\n",
    "    if 'min_price' in df.columns and 'max_price' in df.columns:\n",
    "        df['price_range'] = df['max_price'] - df['min_price']\n",
    "    \n",
    "    # Save the cleaned data to a new CSV\n",
    "    os.makedirs(output_path, exist_ok=True)  # Create output directory if it doesn't exist\n",
    "    cleaned_file_path = os.path.join(output_path, os.path.basename(file_path).replace(\".csv\", \"_cleaned.csv\"))\n",
    "    df.to_csv(cleaned_file_path, index=False)\n",
    "    print(f\"Cleaned file saved at: {cleaned_file_path}\")\n",
    "\n",
    "# List of input CSV file paths (replace with actual file paths)\n",
    "input_files = [\n",
    "    \"data (1).csv\",  # Replace with the path to your 2020 data file\n",
    "    \"data (2).csv\",  # Replace with the path to your 2021 data file\n",
    "    \"data (3).csv\",  # Replace with the path to your 2022 data file\n",
    "    \"data (4).csv\",  # Replace with the path to your 2023 data file\n",
    "]\n",
    "\n",
    "# Output directory for cleaned files\n",
    "output_directory = \"cleaned_data\"\n",
    "\n",
    "# Preprocess each file\n",
    "for file_path in input_files:\n",
    "    preprocess_csv(file_path, output_directory)\n"
   ]
  }
 ],
 "metadata": {
  "kernelspec": {
   "display_name": "base",
   "language": "python",
   "name": "python3"
  },
  "language_info": {
   "codemirror_mode": {
    "name": "ipython",
    "version": 3
   },
   "file_extension": ".py",
   "mimetype": "text/x-python",
   "name": "python",
   "nbconvert_exporter": "python",
   "pygments_lexer": "ipython3",
   "version": "3.12.3"
  }
 },
 "nbformat": 4,
 "nbformat_minor": 2
}
